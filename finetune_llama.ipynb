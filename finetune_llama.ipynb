{
 "cells": [
  {
   "cell_type": "code",
   "execution_count": 5,
   "id": "234f7013",
   "metadata": {},
   "outputs": [],
   "source": [
    "import os\n",
    "os.environ['PYTHONDONTWRITEBYTECODE'] = '1'\n",
    "import pprint"
   ]
  },
  {
   "cell_type": "markdown",
   "id": "1f1faae8",
   "metadata": {
    "vscode": {
     "languageId": "plaintext"
    }
   },
   "source": [
    "# Prepare finetuning dataset of receipts\n",
    "It the dataset comes from kaggle `https://www.kaggle.com/datasets/dhiaznaidi/receiptdatasetssd300v2` and contains\n",
    "- Images under `dataset/images` of receipts\n",
    "- Extracted data under `dataset/gdt` containing `company`, `total`, `date` and `address`\n",
    "- Data about extracted data in `data/info_data` contains the data with important words and their coordinates\n",
    "\n",
    "The expected data should contain `receipt_path`, `schema`(for now just the company, date, total and address), and the `output`"
   ]
  },
  {
   "cell_type": "code",
   "execution_count": 6,
   "id": "cff5c549",
   "metadata": {},
   "outputs": [
    {
     "name": "stdout",
     "output_type": "stream",
     "text": [
      "967\n",
      "ReceiptData(receipt_path='dataset/images/627.jpg',\n",
      "            schema={'address': 'string//address of the person or company doing '\n",
      "                               'the supply',\n",
      "                    'company': 'string//the name of the company or person '\n",
      "                               'doing the supply',\n",
      "                    'date': 'date//the date of the invoice',\n",
      "                    'total': 'number//total amount of the invoice'},\n",
      "            output={'address': {'coordinates': {'xmax': 0,\n",
      "                                                'xmin': 0,\n",
      "                                                'ymax': 0,\n",
      "                                                'ymin': 0},\n",
      "                                'value': '12, JALAN TAMPOI 7/4,KAWASAN '\n",
      "                                         'PERINDUSTRIAN TAMPOI,81200 JOHOR '\n",
      "                                         'BAHRU,JOHOR'},\n",
      "                    'company': {'coordinates': {'xmax': 0,\n",
      "                                                'xmin': 0,\n",
      "                                                'ymax': 0,\n",
      "                                                'ymin': 0},\n",
      "                                'value': 'UNIHAKKA INTERNATIONAL SDN BHD'},\n",
      "                    'date': {'coordinates': {'xmax': 2743,\n",
      "                                             'xmin': 2259,\n",
      "                                             'ymax': 1868,\n",
      "                                             'ymin': 1792},\n",
      "                             'value': '03 APR 2018'},\n",
      "                    'total': {'coordinates': [], 'value': '$7.10'}})\n"
     ]
    }
   ],
   "source": [
    "import json\n",
    "from typing import List\n",
    "\n",
    "from utils import ReceiptData\n",
    "\n",
    "data: List[ReceiptData] = []\n",
    "fixed_schema = {\n",
    "    \"total\": \"number//total amount of the invoice\",\n",
    "    \"company\": \"string//the name of the company or person doing the supply\",\n",
    "    \"date\": \"date//the date of the invoice\",\n",
    "    \"address\": \"string//address of the person or company doing the supply\",\n",
    "}\n",
    "for receipt in os.listdir(\"dataset/info_data\"):\n",
    "    with open(f\"dataset/info_data/{receipt}\", \"r\") as f:\n",
    "        receipt_info = json.loads(f.read())\n",
    "        receipt_id  = receipt_info.get(\"image_path\",\"\").split(\"/\")[5].replace(\".jpg\",\"\")\n",
    "        with open(f\"dataset/gdt/{receipt_id}.json\",\"r\") as df:\n",
    "            extracted_data = json.loads(df.read())\n",
    "            for k,v in extracted_data.items():\n",
    "                if k in receipt_info.keys():\n",
    "                    extracted_data[k] = {\n",
    "                        \"value\": v,\n",
    "                        \"coordinates\": receipt_info[k]\n",
    "                    }\n",
    "                else:\n",
    "                    extracted_data[k] = {\n",
    "                        \"value\": v,\n",
    "                        \"coordinates\": {\n",
    "                            \"xmin\": 0,\n",
    "                            \"ymin\": 0,\n",
    "                            \"xmax\": 0,\n",
    "                            \"ymax\": 0\n",
    "                        }\n",
    "                    }\n",
    "        receipt_data = ReceiptData(\n",
    "            receipt_path=receipt_info.get(\"image_path\",\"\").replace(\"/content/Dataset/train/\",\"dataset/\"),\n",
    "            schema=fixed_schema,\n",
    "            output=extracted_data\n",
    "        )\n",
    "        data.append(receipt_data)\n",
    "print(len(data))\n",
    "pprint.pprint(data[0])"
   ]
  }
 ],
 "metadata": {
  "kernelspec": {
   "display_name": "env",
   "language": "python",
   "name": "python3"
  },
  "language_info": {
   "codemirror_mode": {
    "name": "ipython",
    "version": 3
   },
   "file_extension": ".py",
   "mimetype": "text/x-python",
   "name": "python",
   "nbconvert_exporter": "python",
   "pygments_lexer": "ipython3",
   "version": "3.10.12"
  }
 },
 "nbformat": 4,
 "nbformat_minor": 5
}
