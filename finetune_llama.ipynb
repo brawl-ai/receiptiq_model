{
 "cells": [
  {
   "cell_type": "code",
   "execution_count": 1,
   "id": "234f7013",
   "metadata": {},
   "outputs": [
    {
     "data": {
      "application/vnd.jupyter.widget-view+json": {
       "model_id": "01e712e45648482baede6450960010f1",
       "version_major": 2,
       "version_minor": 0
      },
      "text/plain": [
       "Loading checkpoint shards:   0%|          | 0/5 [00:00<?, ?it/s]"
      ]
     },
     "metadata": {},
     "output_type": "display_data"
    }
   ],
   "source": [
    "import os\n",
    "os.environ['PYTHONDONTWRITEBYTECODE'] = '1'\n",
    "import pprint\n",
    "from typing import Dict\n",
    "import torch\n",
    "from transformers import MllamaForConditionalGeneration, AutoProcessor\n",
    "\n",
    "model_id = \"meta-llama/Llama-3.2-11B-Vision\"\n",
    "\n",
    "model = MllamaForConditionalGeneration.from_pretrained(\n",
    "    model_id,\n",
    "    torch_dtype=torch.bfloat16,\n",
    "    device_map=\"cpu\",\n",
    ")\n",
    "\n",
    "processor = AutoProcessor.from_pretrained(model_id)\n",
    "tokenizer = processor.tokenizer"
   ]
  },
  {
   "cell_type": "markdown",
   "id": "1f1faae8",
   "metadata": {
    "vscode": {
     "languageId": "plaintext"
    }
   },
   "source": [
    "# Prepare finetuning dataset of receipts\n",
    "It the dataset comes from kaggle `https://www.kaggle.com/datasets/dhiaznaidi/receiptdatasetssd300v2` and contains\n",
    "- Images under `dataset/images` of receipts\n",
    "- Extracted data under `dataset/gdt` containing `company`, `total`, `date` and `address`\n",
    "- Data about extracted data in `data/info_data` contains the data with important words and their coordinates\n",
    "\n",
    "The expected data should contain `receipt_path`, `schema`(for now just the company, date, total and address), and the `output`"
   ]
  },
  {
   "cell_type": "markdown",
   "id": "98647754",
   "metadata": {},
   "source": [
    "## Load Dataset"
   ]
  },
  {
   "cell_type": "code",
   "execution_count": 2,
   "id": "461cab2e",
   "metadata": {},
   "outputs": [],
   "source": [
    "from dataclasses import dataclass\n",
    "\n",
    "@dataclass\n",
    "class ReceiptData:\n",
    "    receipt_path: str\n",
    "    schema: Dict\n",
    "    output: Dict"
   ]
  },
  {
   "cell_type": "code",
   "execution_count": 3,
   "id": "cff5c549",
   "metadata": {},
   "outputs": [
    {
     "name": "stdout",
     "output_type": "stream",
     "text": [
      "967\n",
      "ReceiptData(receipt_path='dataset/images/627.jpg',\n",
      "            schema={'address': 'string//address of the person or company doing '\n",
      "                               'the supply',\n",
      "                    'company': 'string//the name of the company or person '\n",
      "                               'doing the supply',\n",
      "                    'date': 'date//the date of the invoice',\n",
      "                    'total': 'number//total amount of the invoice'},\n",
      "            output={'address': {'coordinates': {'xmax': 0,\n",
      "                                                'xmin': 0,\n",
      "                                                'ymax': 0,\n",
      "                                                'ymin': 0},\n",
      "                                'value': '12, JALAN TAMPOI 7/4,KAWASAN '\n",
      "                                         'PERINDUSTRIAN TAMPOI,81200 JOHOR '\n",
      "                                         'BAHRU,JOHOR'},\n",
      "                    'company': {'coordinates': {'xmax': 0,\n",
      "                                                'xmin': 0,\n",
      "                                                'ymax': 0,\n",
      "                                                'ymin': 0},\n",
      "                                'value': 'UNIHAKKA INTERNATIONAL SDN BHD'},\n",
      "                    'date': {'coordinates': {'xmax': 2743,\n",
      "                                             'xmin': 2259,\n",
      "                                             'ymax': 1868,\n",
      "                                             'ymin': 1792},\n",
      "                             'value': '03 APR 2018'},\n",
      "                    'total': {'coordinates': [], 'value': '$7.10'}})\n"
     ]
    }
   ],
   "source": [
    "import json\n",
    "from typing import List\n",
    "\n",
    "fixed_schema = {\n",
    "    \"total\": \"number//total amount of the invoice\",\n",
    "    \"company\": \"string//the name of the company or person doing the supply\",\n",
    "    \"date\": \"date//the date of the invoice\",\n",
    "    \"address\": \"string//address of the person or company doing the supply\",\n",
    "}\n",
    "\n",
    "def prepare_dataset() -> List[ReceiptData]:\n",
    "    dataset: List[ReceiptData] = []\n",
    "    for receipt in os.listdir(\"dataset/info_data\"):\n",
    "        with open(f\"dataset/info_data/{receipt}\", \"r\") as f:\n",
    "            receipt_info = json.loads(f.read())\n",
    "            receipt_id  = receipt_info.get(\"image_path\",\"\").split(\"/\")[5].replace(\".jpg\",\"\")\n",
    "            with open(f\"dataset/gdt/{receipt_id}.json\",\"r\") as df:\n",
    "                extracted_data = json.loads(df.read())\n",
    "                for k,v in extracted_data.items():\n",
    "                    if k in receipt_info.keys():\n",
    "                        extracted_data[k] = {\n",
    "                            \"value\": v,\n",
    "                            \"coordinates\": receipt_info[k]\n",
    "                        }\n",
    "                    else:\n",
    "                        extracted_data[k] = {\n",
    "                            \"value\": v,\n",
    "                            \"coordinates\": {\n",
    "                                \"xmin\": 0,\n",
    "                                \"ymin\": 0,\n",
    "                                \"xmax\": 0,\n",
    "                                \"ymax\": 0\n",
    "                            }\n",
    "                        }\n",
    "            receipt_data = ReceiptData(\n",
    "                receipt_path=receipt_info.get(\"image_path\",\"\").replace(\"/content/Dataset/train/\",\"dataset/\"),\n",
    "                schema=fixed_schema,\n",
    "                output=extracted_data\n",
    "            )\n",
    "            dataset.append(receipt_data)\n",
    "    return dataset\n",
    "data_list = prepare_dataset()\n",
    "print(len(data_list))\n",
    "pprint.pprint(data_list[0])"
   ]
  },
  {
   "cell_type": "markdown",
   "id": "875b6ebd",
   "metadata": {},
   "source": [
    "## Tokenize the dataset"
   ]
  },
  {
   "cell_type": "code",
   "execution_count": 4,
   "id": "d01318b1",
   "metadata": {},
   "outputs": [
    {
     "data": {
      "text/plain": [
       "Dataset({\n",
       "    features: ['prompt', 'completion'],\n",
       "    num_rows: 967\n",
       "})"
      ]
     },
     "execution_count": 4,
     "metadata": {},
     "output_type": "execute_result"
    }
   ],
   "source": [
    "from dataclasses import asdict\n",
    "from datasets import Dataset\n",
    "\n",
    "def convert_to_dataset(data_list: List[ReceiptData]) -> Dataset:\n",
    "    data_dict = {\n",
    "        \"prompt\": [asdict(record) for record in data_list], \n",
    "        \"completion\": [{\"output\": record.output} for record in data_list]\n",
    "    }\n",
    "    dataset = Dataset.from_dict(data_dict)\n",
    "    return dataset\n",
    "\n",
    "dataset = convert_to_dataset(data_list=data_list)\n",
    "dataset"
   ]
  },
  {
   "cell_type": "code",
   "execution_count": 5,
   "id": "aa9d3e8f",
   "metadata": {},
   "outputs": [
    {
     "data": {
      "application/vnd.jupyter.widget-view+json": {
       "model_id": "d22c8e19f5ee420883eed5c5cb8ab789",
       "version_major": 2,
       "version_minor": 0
      },
      "text/plain": [
       "Map:   0%|          | 0/967 [00:00<?, ? examples/s]"
      ]
     },
     "metadata": {},
     "output_type": "display_data"
    }
   ],
   "source": [
    "from typing import Dict\n",
    "from PIL import Image\n",
    "\n",
    "def tokenize_batched(examples: Dict[str, List]) -> Dict[str, torch.Tensor]:\n",
    "    receipt_paths = [item.get(\"receipt_path\") for item in examples[\"prompt\"]]\n",
    "    schemas = [item.get(\"schema\") for item in examples[\"prompt\"]]\n",
    "    outputs = [f'{item.get(\"output\")}' for item in examples[\"completion\"]]\n",
    "    \n",
    "    images = [[Image.open(path)] for path in receipt_paths] \n",
    "    input_prompts = [f'<|image|><|begin_of_text|>{schema}' for schema in schemas]\n",
    "    \n",
    "    model_inputs = processor(\n",
    "        images=images,\n",
    "        text=input_prompts,\n",
    "        return_tensors=\"pt\",\n",
    "        padding=\"longest\",\n",
    "        truncation=True\n",
    "    )\n",
    "      \n",
    "    completion_tokens = tokenizer(\n",
    "        outputs,\n",
    "        return_tensors=\"pt\",\n",
    "        padding=\"longest\",\n",
    "        truncation=True\n",
    "    )\n",
    "\n",
    "    batch_input_ids = []\n",
    "    batch_attention_mask = []\n",
    "    batch_labels = []\n",
    "\n",
    "    # Determine max length across all combined sequences in this batch\n",
    "    max_len = 0\n",
    "    for i in range(len(input_prompts)):\n",
    "        combined_len = model_inputs[\"input_ids\"][i].shape[0] + completion_tokens[\"input_ids\"][i].shape[0]\n",
    "        if combined_len > max_len:\n",
    "            max_len = combined_len\n",
    "    \n",
    "    # Optional: Cap max_len to a global maximum for consistency\n",
    "    # if max_len > 1024: max_len = 1024 \n",
    "\n",
    "    for i in range(len(input_prompts)):\n",
    "        prompt_input_ids = model_inputs[\"input_ids\"][i]\n",
    "        prompt_attention_mask = model_inputs[\"attention_mask\"][i]\n",
    "        \n",
    "        output_input_ids = completion_tokens[\"input_ids\"][i]\n",
    "        output_attention_mask = completion_tokens[\"attention_mask\"][i]\n",
    "\n",
    "        combined_input_ids = torch.cat((prompt_input_ids, output_input_ids))\n",
    "        combined_attention_mask = torch.cat((prompt_attention_mask, output_attention_mask))\n",
    "\n",
    "        labels = combined_input_ids.clone()\n",
    "        prompt_length = prompt_input_ids.shape[0]\n",
    "        labels[:prompt_length] = -100\n",
    "\n",
    "        # Pad to max_len of the batch\n",
    "        current_len = combined_input_ids.shape[0]\n",
    "        if current_len < max_len:\n",
    "            padding_len = max_len - current_len\n",
    "            combined_input_ids = torch.cat([combined_input_ids, torch.full((padding_len,), tokenizer.pad_token_id, dtype=torch.long)])\n",
    "            combined_attention_mask = torch.cat([combined_attention_mask, torch.zeros(padding_len, dtype=torch.long)])\n",
    "            labels = torch.cat([labels, torch.full((padding_len,), -100, dtype=torch.long)])\n",
    "\n",
    "        batch_input_ids.append(combined_input_ids)\n",
    "        batch_attention_mask.append(combined_attention_mask)\n",
    "        batch_labels.append(labels)\n",
    "\n",
    "    return {\n",
    "        \"input_ids\": torch.stack(batch_input_ids),\n",
    "        \"attention_mask\": torch.stack(batch_attention_mask),\n",
    "        \"labels\": torch.stack(batch_labels),\n",
    "        \"pixel_values\": model_inputs[\"pixel_values\"],\n",
    "        \"aspect_ratio_ids\": model_inputs[\"aspect_ratio_ids\"],\n",
    "        \"aspect_ratio_mask\": model_inputs['aspect_ratio_mask'],\n",
    "    }\n",
    "\n",
    "tokenized_dataset = dataset.map(\n",
    "    tokenize_batched,\n",
    "    batched=True,\n",
    "    batch_size=4,\n",
    "    remove_columns=dataset.column_names\n",
    ")"
   ]
  },
  {
   "cell_type": "markdown",
   "id": "b03ebb30",
   "metadata": {},
   "source": [
    "### Test tokenized dataset"
   ]
  },
  {
   "cell_type": "code",
   "execution_count": 6,
   "id": "a1879f13",
   "metadata": {},
   "outputs": [
    {
     "name": "stdout",
     "output_type": "stream",
     "text": [
      "<|begin_of_text|><|image|><|begin_of_text|>{'address':'string//address of the person or company doing the supply', 'company':'string//the name of the company or person doing the supply', 'date': 'date//the date of the invoice', 'total': 'number//total amount of the invoice'}<|begin_of_text|>{'address': {'coordinates': {'xmax': 0, 'xmin': 0, 'ymax': 0, 'ymin': 0}, 'value': '12, JALAN TAMPOI 7/4,KAWASAN PERINDUSTRIAN TAMPOI,81200 JOHOR BAHRU,JOHOR'}, 'company': {'coordinates': {'xmax': 0, 'xmin': 0, 'ymax': 0, 'ymin': 0}, 'value': 'UNIHAKKA INTERNATIONAL SDN BHD'}, 'date': {'coordinates': {'xmax': 2743, 'xmin': 2259, 'ymax': 1868, 'ymin': 1792}, 'value': '03 APR 2018'}, 'total': {'coordinates': [], 'value': '$7.10'}}<|finetune_right_pad_id|><|finetune_right_pad_id|><|finetune_right_pad_id|><|finetune_right_pad_id|><|finetune_right_pad_id|><|finetune_right_pad_id|><|finetune_right_pad_id|><|finetune_right_pad_id|><|finetune_right_pad_id|><|finetune_right_pad_id|><|finetune_right_pad_id|><|finetune_right_pad_id|><|finetune_right_pad_id|><|finetune_right_pad_id|><|finetune_right_pad_id|><|finetune_right_pad_id|><|finetune_right_pad_id|><|finetune_right_pad_id|><|finetune_right_pad_id|><|finetune_right_pad_id|><|finetune_right_pad_id|><|finetune_right_pad_id|><|finetune_right_pad_id|><|finetune_right_pad_id|><|finetune_right_pad_id|><|finetune_right_pad_id|><|finetune_right_pad_id|><|finetune_right_pad_id|><|finetune_right_pad_id|><|finetune_right_pad_id|><|finetune_right_pad_id|><|finetune_right_pad_id|><|finetune_right_pad_id|><|finetune_right_pad_id|><|finetune_right_pad_id|><|finetune_right_pad_id|><|finetune_right_pad_id|><|finetune_right_pad_id|><|finetune_right_pad_id|><|finetune_right_pad_id|><|finetune_right_pad_id|><|finetune_right_pad_id|><|finetune_right_pad_id|>', 'name': 'UNIHAKKA INTERNATIONAL SDN BHD'}]. <OCR/> UNIHAKKA INTERNATIONAL SDN BHD 03\n"
     ]
    }
   ],
   "source": [
    "sample_data = {\n",
    "    k: torch.tensor(v, dtype=torch.int32).unsqueeze(0)\n",
    "    if k in [\"input_ids\", \"attention_mask\", \"labels\"]\n",
    "    else torch.tensor(v).unsqueeze(0)  # for pixel_values and others\n",
    "    for k, v in tokenized_dataset[0].items()\n",
    "}\n",
    "if 'pixel_values' in sample_data:\n",
    "    sample_data['pixel_values'] = sample_data['pixel_values'].to(torch.bfloat16)\n",
    "output = model.generate(**sample_data, max_new_tokens=30)\n",
    "print(processor.decode(output[0]))"
   ]
  }
 ],
 "metadata": {
  "kernelspec": {
   "display_name": "env",
   "language": "python",
   "name": "python3"
  },
  "language_info": {
   "codemirror_mode": {
    "name": "ipython",
    "version": 3
   },
   "file_extension": ".py",
   "mimetype": "text/x-python",
   "name": "python",
   "nbconvert_exporter": "python",
   "pygments_lexer": "ipython3",
   "version": "3.10.12"
  }
 },
 "nbformat": 4,
 "nbformat_minor": 5
}
